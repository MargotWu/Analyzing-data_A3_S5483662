{
 "cells": [
  {
   "cell_type": "markdown",
   "metadata": {
    "id": "z81sDP-WhbM4"
   },
   "source": [
    "# Assignment 3: LDA Topic Modeling\n",
    "\n",
    "## Note\n",
    "Installing Tomotopy locally can return an error, if that's the case run this notebook on Google Colab\n",
    "\n",
    "## Research Background\n",
    "\n",
    "LDA is a popular topic modeling algorithm widely used in the fields of Digital Humanities and Social Sciences. In the field of political communication, topic modeling is often applied for analyzing politicians Twitter/X posts, identitying thematic patterns or topics revolving around their posts.\n",
    "\n",
    "For this assignment, students will work with tweets from two USA politicians, Donald Trump and Bernie Sanders, who are often regarded as right-wing populist and left-wing populist respectively. Right-wing populism often emphasizes nationalism, anti-immigration policies, and a critique of global elites from a culturally conservative perspective, focusing on preserving traditional values and social hierarchies. Left-wing populism prioritizes economic inequality, advocating for the redistribution of wealth, expansion of social services, and empowerment of the working class against the capitalist elite. While both forms of populism appeal to the \"common people\" against perceived elites and established structures, they diverge significantly in their identification of the elites, proposed solutions, and core ideologies. For a more detailed explanation, you can read the chapter by Macaulay (2019) \"Bernie and The Donald: A comparison of left-and right-wing populist discourse\" (full reference below).\n",
    "\n",
    "**Research Questions**\n",
    "1. What topics are revolving around Donald Trump and Bernie Sanders' posts separately?\n",
    "2. What are the topic differences between Trump (right-wing popoulist) and Sanders (left-wing populist)?\n",
    "\n",
    "**Aim:**\n",
    "1. The first aim of the assignment is to conduct LDA topic modeling. Identify thematic patterns or politics revolving around Trump or Sanders's posts.\n",
    "2. The second aim is to critically evaluate the results of topic modeling. Try different numbers of topics to see with which settings the topics are more coherent. Critically reflect on the results of LDA topic modeling, discussing them in relation to existing theories about populism.\n",
    "\n",
    "**Data**\n",
    "Two datasets are prepared for this assginment. Tweets from Trump and tweets from Sanders. Students are asked to work on these two datasets.\n",
    "\n",
    "**Methods**\n",
    "1. Word segamentation\n",
    "2. Removing stopwords\n",
    "3. LDA topic modeling\n",
    "4. Topic evaulation (coherence and human evaluation)\n",
    "5. Visualization of results.\n",
    "\n",
    "**References**\n",
    "1. Macaulay, M. (2019). Bernie and the Donald: A comparison of Left-and Right-wing populist discourse. *Populist discourse: International perspectives*, 165-195.\n",
    "\n",
    "\n",
    "\n"
   ]
  },
  {
   "cell_type": "markdown",
   "metadata": {
    "id": "fOAzU-HhhbM9"
   },
   "source": [
    "## Setup"
   ]
  },
  {
   "cell_type": "markdown",
   "metadata": {
    "id": "i4wYU9mJM99W"
   },
   "source": [
    "### Q1. Install necessary libraries, including `tomotopy` and `little_mallet_wrapper`, and import them"
   ]
  },
  {
   "cell_type": "code",
   "execution_count": 1,
   "metadata": {
    "id": "SFH5FrRzhbM-"
   },
   "outputs": [
    {
     "name": "stdout",
     "output_type": "stream",
     "text": [
      "Collecting tomotopy\n",
      "  Obtaining dependency information for tomotopy from https://files.pythonhosted.org/packages/08/fb/a2dbd672ff5858834c20dae32b6ed5deaa7c5da8f5e4733b1202eaa3dd6f/tomotopy-0.12.7-cp311-cp311-macosx_11_0_arm64.whl.metadata\n",
      "  Downloading tomotopy-0.12.7-cp311-cp311-macosx_11_0_arm64.whl.metadata (29 kB)\n",
      "Requirement already satisfied: numpy>=1.11.0 in /Users/margotwu/anaconda3/lib/python3.11/site-packages (from tomotopy) (1.24.3)\n",
      "Downloading tomotopy-0.12.7-cp311-cp311-macosx_11_0_arm64.whl (3.4 MB)\n",
      "\u001b[2K   \u001b[90m━━━━━━━━━━━━━━━━━━━━━━━━━━━━━━━━━━━━━━━━\u001b[0m \u001b[32m3.4/3.4 MB\u001b[0m \u001b[31m2.1 MB/s\u001b[0m eta \u001b[36m0:00:00\u001b[0ma \u001b[36m0:00:01\u001b[0m0m\n",
      "\u001b[?25hInstalling collected packages: tomotopy\n",
      "Successfully installed tomotopy-0.12.7\n",
      "Collecting little_mallet_wrapper\n",
      "  Obtaining dependency information for little_mallet_wrapper from https://files.pythonhosted.org/packages/e3/01/7e8561e33e79b408d9526b22b50e20bfdd8e551979237ad5c972759fe7d8/little_mallet_wrapper-0.5.0-py3-none-any.whl.metadata\n",
      "  Downloading little_mallet_wrapper-0.5.0-py3-none-any.whl.metadata (13 kB)\n",
      "Downloading little_mallet_wrapper-0.5.0-py3-none-any.whl (19 kB)\n",
      "Installing collected packages: little_mallet_wrapper\n",
      "Successfully installed little_mallet_wrapper-0.5.0\n"
     ]
    }
   ],
   "source": [
    "# Q1 (code)\n",
    "!pip install tomotopy\n",
    "!pip install little_mallet_wrapper"
   ]
  },
  {
   "cell_type": "markdown",
   "metadata": {
    "id": "L4LzJUC3hbNC"
   },
   "source": [
    "## Data preprocessing"
   ]
  },
  {
   "cell_type": "markdown",
   "metadata": {
    "id": "_1qdFBgYM3_Z"
   },
   "source": [
    "### Q2. Load the two datasets and concatenate them\n",
    "\n",
    "The goal is to run topic modelling on the combined dataset of Sanders and Trump's tweets"
   ]
  },
  {
   "cell_type": "code",
   "execution_count": 2,
   "metadata": {
    "id": "Gc1Wj2K3hbNE"
   },
   "outputs": [
    {
     "name": "stdout",
     "output_type": "stream",
     "text": [
      "     Username              TweetId                           Title  \\\n",
      "0  SenSanders  1351670845639421952  SenSanders_1351670845639421952   \n",
      "1  SenSanders  1351259762722279424  SenSanders_1351259762722279424   \n",
      "2  SenSanders  1351242822293319680  SenSanders_1351242822293319680   \n",
      "3  SenSanders  1350885541911400448  SenSanders_1350885541911400448   \n",
      "4  SenSanders  1349880150041780224  SenSanders_1349880150041780224   \n",
      "\n",
      "                                             Content  \n",
      "0  Wealth increase in past 10 months:\\n⬆️$173 bil...  \n",
      "1  Amidst massive income and wealth inequality te...  \n",
      "2  “We now have the resources, we now have the sk...  \n",
      "3  After surviving an attempt on his life, Russia...  \n",
      "4  President-Elect Biden's COVID rescue plan will...  \n"
     ]
    }
   ],
   "source": [
    "# Q2 (code)\n",
    "import pandas as pd #used for data manipulation and analysis\n",
    "\n",
    "# Load Sanders dataset\n",
    "sanders_tweets = pd.read_csv('sanders_tweets.csv')\n",
    "\n",
    "# Load Trump dataset\n",
    "trump_tweets = pd.read_csv('trump_tweets.csv')\n",
    "\n",
    "# Concatenate the datasets\n",
    "combined_tweets = pd.concat([sanders_tweets, trump_tweets])\n",
    "\n",
    "# Reset index after concatenation\n",
    "combined_tweets.reset_index(drop=True, inplace=True)\n",
    "\n",
    "# Display combined dataset\n",
    "print(combined_tweets.head())\n"
   ]
  },
  {
   "cell_type": "markdown",
   "metadata": {},
   "source": [
    "We have got a combined dataset. The next step we have to do is cleaning it."
   ]
  },
  {
   "cell_type": "markdown",
   "metadata": {
    "id": "Tr84dAOvhbNE"
   },
   "source": [
    "### Q3. Clean the data\n",
    "\n",
    "Transform all tweets to lowercase, remove stopwords, punctuation, and numbers. Add the processed text to a list called `training_data`.\n",
    "Create a list with the content of the tweets (`original_texts`) and a list that allows you to identify both the author of the tweet and its ID (`titles`).\n"
   ]
  },
  {
   "cell_type": "code",
   "execution_count": 6,
   "metadata": {
    "id": "mZlaa28QhbNF"
   },
   "outputs": [
    {
     "name": "stderr",
     "output_type": "stream",
     "text": [
      "[nltk_data] Downloading package stopwords to\n",
      "[nltk_data]     /Users/margotwu/nltk_data...\n",
      "[nltk_data]   Package stopwords is already up-to-date!\n"
     ]
    },
    {
     "name": "stdout",
     "output_type": "stream",
     "text": [
      "Processed Text Sample: ['wealth increase past months ⬆️ billion elon musk ⬆️ billion jeff bezos ⬆️ billion walton family ⬆️ billion bill gates ⬆️ billion mark zuckerberg year increase us minimum wage must tax rich amp raise minimum wage least', 'amidst massive income wealth inequality tens millions americans working starvation wages need raise minimum wage living wage least hour excuses need act', '“ resources skills techniques get rid poverty question whether nation ” — dr martin luther king jr', 'surviving attempt life russian activist alexei navalny detained bravely returning russia today call release united states must stand fighting corruption working democracy around world', 'presidentelect bidens covid rescue plan begin provide people muchneeded support direct payments minimum wage look forward working colleagues congress urgently provide bold relief working families']\n"
     ]
    }
   ],
   "source": [
    "# Q3 (code)\n",
    "import pandas as pd #used for data manipulation and analysis\n",
    "import re #used for regular expressions\n",
    "import nltk #used for natural language processing tasks\n",
    "from nltk.corpus import stopwords #used for removing stopwords\n",
    "from nltk.tokenize import word_tokenize #used for tokenization\n",
    "import string #used for string operations\n",
    "\n",
    "\n",
    "# Define stopwords and punctuation\n",
    "nltk.download('stopwords')\n",
    "stop_words = set(stopwords.words('english'))\n",
    "punctuation = string.punctuation\n",
    "\n",
    "# Initialize lists for processed data\n",
    "training_data = []\n",
    "original_texts = []\n",
    "titles = []\n",
    "\n",
    "# Preprocess tweets\n",
    "for index, row in combined_tweets.iterrows():\n",
    "    # Combine username and TweetId for title\n",
    "    title = (row['Username'], row['TweetId'])\n",
    "    titles.append(title)\n",
    "    \n",
    "    # Remove URLs and user mentions\n",
    "    processed_text = re.sub(r\"http\\S+|www\\S+|https\\S+|\\/\\/t|co\\/|\\@\\w+|realdonaldtrump\", '', row['Content'], flags=re.MULTILINE)\n",
    "    \n",
    "    # Convert to lowercase\n",
    "    processed_text = processed_text.lower()\n",
    "    \n",
    "    # Remove punctuation\n",
    "    processed_text = processed_text.translate(str.maketrans('', '', punctuation))\n",
    "    \n",
    "    # Remove numbers\n",
    "    processed_text = re.sub(r'\\d+', '', processed_text)\n",
    "    \n",
    "    # Tokenize\n",
    "    words = word_tokenize(processed_text)\n",
    "    \n",
    "    # Remove stopwords\n",
    "    filtered_words = [word for word in words if word not in stop_words]\n",
    "    \n",
    "    # Append processed text to training data\n",
    "    training_data.append(' '.join(filtered_words))\n",
    "    \n",
    "    # Append original text to original_texts\n",
    "    original_texts.append(row['Content'])\n",
    "\n",
    "# Display sample data\n",
    "print(\"Processed Text Sample:\", training_data[:5])\n",
    "\n",
    "\n",
    "# Tip: add the following line to remove URLS and user mentions\n",
    "processed_text = re.sub(r\"http\\S+|www\\S+|https\\S+|\\/\\/t|co\\/|\\@\\w+|realdonaldtrump\", '', processed_text, flags=re.MULTILINE)"
   ]
  },
  {
   "cell_type": "markdown",
   "metadata": {
    "id": "BeKlV0IehbNH"
   },
   "source": [
    "## LDA topic modelling"
   ]
  },
  {
   "cell_type": "markdown",
   "metadata": {
    "id": "AhTQrfCkHbXS"
   },
   "source": [
    "### Q4. Train a an LDA topic model with `tomotopy`"
   ]
  },
  {
   "cell_type": "code",
   "execution_count": 9,
   "metadata": {
    "id": "lKrCy-P6hbNI"
   },
   "outputs": [
    {
     "name": "stdout",
     "output_type": "stream",
     "text": [
      "Topic Model Training...\n",
      "\n",
      "\n",
      "Iteration: 0\tLog-likelihood: -9.24806609156121\n",
      "Iteration: 10\tLog-likelihood: -8.824756467420723\n",
      "Iteration: 20\tLog-likelihood: -8.665056440029879\n",
      "Iteration: 30\tLog-likelihood: -8.57263000810629\n",
      "Iteration: 40\tLog-likelihood: -8.509546259255108\n",
      "Iteration: 50\tLog-likelihood: -8.472685106440336\n",
      "Iteration: 60\tLog-likelihood: -8.440398947255806\n",
      "Iteration: 70\tLog-likelihood: -8.415687493754849\n",
      "Iteration: 80\tLog-likelihood: -8.40224238827886\n",
      "Iteration: 90\tLog-likelihood: -8.388326132708068\n",
      "Topic 0:\n",
      "\trt: 0.06061425060033798\n",
      "\t’: 0.03352481499314308\n",
      "\tdemocrats: 0.026743808761239052\n",
      "\timpeachment: 0.01965142972767353\n",
      "\tpresident: 0.018994087353348732\n",
      "\thouse: 0.018475132063031197\n",
      "\tsenate: 0.013423973694443703\n",
      "\tamp: 0.012109288014471531\n",
      "\tpelosi: 0.01179791521281004\n",
      "\tamerican: 0.010517827235162258\n",
      "Topic 1:\n",
      "\tpeople: 0.017508752644062042\n",
      "\trt: 0.017233461141586304\n",
      "\tamerica: 0.014287853613495827\n",
      "\tamerican: 0.014122678898274899\n",
      "\ttoday: 0.013654684647917747\n",
      "\tcountry: 0.010571431368589401\n",
      "\tthank: 0.009580385871231556\n",
      "\tgreat: 0.009305095300078392\n",
      "\twomen: 0.009084862656891346\n",
      "\tday: 0.0088646300137043\n",
      "Topic 2:\n",
      "\tmust: 0.017129044979810715\n",
      "\tchange: 0.015145723707973957\n",
      "\tpeople: 0.013342704623937607\n",
      "\tamerican: 0.012549376115202904\n",
      "\tclimate: 0.012369073927402496\n",
      "\tenergy: 0.011539685539901257\n",
      "\tstreet: 0.01042181346565485\n",
      "\tneed: 0.009736665524542332\n",
      "\twall: 0.009664544835686684\n",
      "\tsystem: 0.009159699082374573\n",
      "Topic 3:\n",
      "\t’: 0.02110615372657776\n",
      "\tfake: 0.02083122730255127\n",
      "\tnews: 0.020133335143327713\n",
      "\tamp: 0.016707319766283035\n",
      "\tmedia: 0.014084938913583755\n",
      "\t”: 0.01351393572986126\n",
      "\t“: 0.013471639715135098\n",
      "\tnever: 0.010997295379638672\n",
      "\teven: 0.010109069757163525\n",
      "\tpeople: 0.009284288622438908\n",
      "Topic 4:\n",
      "\thealth: 0.03164562210440636\n",
      "\tcare: 0.030590778216719627\n",
      "\ttax: 0.023267146199941635\n",
      "\tpeople: 0.01946970820426941\n",
      "\trepublicans: 0.013683135621249676\n",
      "\tright: 0.013261198066174984\n",
      "\tamericans: 0.012959813699126244\n",
      "\tmust: 0.012176215648651123\n",
      "\ttrump: 0.011874831281602383\n",
      "\tbill: 0.011483032256364822\n",
      "Topic 5:\n",
      "\tborder: 0.022886760532855988\n",
      "\tmust: 0.013875402510166168\n",
      "\tdemocrats: 0.013636691495776176\n",
      "\tcountry: 0.0133383022621274\n",
      "\tpeople: 0.012114905752241611\n",
      "\twant: 0.012114905752241611\n",
      "\twall: 0.012025388889014721\n",
      "\tus: 0.011697161011397839\n",
      "\t’: 0.01113022118806839\n",
      "\tamp: 0.010205213911831379\n",
      "Topic 6:\n",
      "\tunited: 0.024516168981790543\n",
      "\tpresident: 0.021414322778582573\n",
      "\tstates: 0.019732598215341568\n",
      "\tgreat: 0.018424591049551964\n",
      "\tus: 0.012818845920264721\n",
      "\tiran: 0.010912892408668995\n",
      "\tgood: 0.010240202769637108\n",
      "\tkorea: 0.009978601709008217\n",
      "\tnorth: 0.00956751313060522\n",
      "\tmeeting: 0.009305911138653755\n",
      "Topic 7:\n",
      "\trt: 0.03934921696782112\n",
      "\t’: 0.02904958464205265\n",
      "\tpresident: 0.027241893112659454\n",
      "\ttrump: 0.024383220821619034\n",
      "\tnews: 0.02274368703365326\n",
      "\tmedia: 0.011645309627056122\n",
      "\tfake: 0.01004781574010849\n",
      "\tthank: 0.009375186637043953\n",
      "\twhite: 0.008576439693570137\n",
      "\tgoing: 0.008534399792551994\n",
      "Topic 8:\n",
      "\t’: 0.06737057864665985\n",
      "\t”: 0.06268628686666489\n",
      "\t“: 0.060329221189022064\n",
      "\ttrump: 0.03082115761935711\n",
      "\trt: 0.030701814219355583\n",
      "\tbiden: 0.029090655967593193\n",
      "\tjoe: 0.02213880605995655\n",
      "\tpresident: 0.02076633833348751\n",
      "\twould: 0.008891505189239979\n",
      "\tdonald: 0.007698054425418377\n",
      "Topic 9:\n",
      "\trt: 0.06612196564674377\n",
      "\tpresident: 0.020021256059408188\n",
      "\tgreat: 0.020021256059408188\n",
      "\tthank: 0.019080424681305885\n",
      "\tpm: 0.013585973531007767\n",
      "\ttoday: 0.01336017344146967\n",
      "\ttrump: 0.013172008097171783\n",
      "\ttonight: 0.011666678823530674\n",
      "\tnew: 0.011102179996669292\n",
      "\tlive: 0.010161349549889565\n",
      "Topic 10:\n",
      "\tjobs: 0.01786854863166809\n",
      "\teconomy: 0.01742553524672985\n",
      "\tever: 0.014176775701344013\n",
      "\tgreat: 0.012810819782316685\n",
      "\thistory: 0.01258931402117014\n",
      "\trecord: 0.012478560209274292\n",
      "\tbest: 0.011260275729000568\n",
      "\tyears: 0.011038769036531448\n",
      "\tamp: 0.010189661756157875\n",
      "\tnew: 0.010152744129300117\n",
      "Topic 11:\n",
      "\trt: 0.032047029584646225\n",
      "\tcourt: 0.018435616046190262\n",
      "\t’: 0.0178747046738863\n",
      "\tfbi: 0.016528520733118057\n",
      "\ttrump: 0.014397063292562962\n",
      "\telection: 0.014135305769741535\n",
      "\t“: 0.012676939368247986\n",
      "\t”: 0.011368149891495705\n",
      "\tsupreme: 0.010882027447223663\n",
      "\tinvestigation: 0.008937539532780647\n",
      "Topic 12:\n",
      "\tgreat: 0.05416416376829147\n",
      "\tvote: 0.02263546548783779\n",
      "\tthank: 0.017118779942393303\n",
      "\tamp: 0.015413621440529823\n",
      "\ttotal: 0.01474493183195591\n",
      "\tstate: 0.014577760361135006\n",
      "\tendorsement: 0.013842201791703701\n",
      "\tstrong: 0.01330725010484457\n",
      "\tbig: 0.0130732087418437\n",
      "\tjob: 0.01280573382973671\n",
      "Topic 13:\n",
      "\tworkers: 0.01922639273107052\n",
      "\tpay: 0.015816258266568184\n",
      "\tpeople: 0.01328805647790432\n",
      "\tmust: 0.011494796723127365\n",
      "\tamericans: 0.011436001397669315\n",
      "\twage: 0.01031888835132122\n",
      "\tcountry: 0.010113104246556759\n",
      "\tdrug: 0.00976033229380846\n",
      "\tamerica: 0.00937816221266985\n",
      "\tbillion: 0.008849003352224827\n",
      "Topic 14:\n",
      "\tus: 0.02036387473344803\n",
      "\tchina: 0.017632603645324707\n",
      "\t’: 0.014555602334439754\n",
      "\trt: 0.012031769379973412\n",
      "\tamp: 0.011340308003127575\n",
      "\ttrade: 0.00981909316033125\n",
      "\tdeal: 0.009162205271422863\n",
      "\tmany: 0.008851047605276108\n",
      "\tstates: 0.008228732272982597\n",
      "\tmake: 0.008125013671815395\n"
     ]
    }
   ],
   "source": [
    "# Q4 (code)\n",
    "import tomotopy as tp#used for topic modeling\n",
    "\n",
    "# Number of topics to return\n",
    "num_topics = 15\n",
    "# Number of topic words to print out\n",
    "num_topic_words = 10\n",
    "\n",
    "# Initialize the model\n",
    "model = tp.LDAModel(k=num_topics)\n",
    "\n",
    "# Add each document to the model, after splitting it up into words\n",
    "for text in training_data:\n",
    "    model.add_doc(text.strip().split())\n",
    "\n",
    "print(\"Topic Model Training...\\n\\n\")\n",
    "# Iterate over the data 10 times\n",
    "iterations = 10\n",
    "for i in range(0, 100, iterations):\n",
    "    model.train(iterations)\n",
    "    print(f'Iteration: {i}\\tLog-likelihood: {model.ll_per_word}')\n",
    "\n",
    "# Get topics and print top words for each topic\n",
    "topics = [model.get_topic_words(topic_id, top_n=num_topic_words) for topic_id in range(num_topics)]\n",
    "for topic_id, words in enumerate(topics):\n",
    "    print(f\"Topic {topic_id}:\")\n",
    "    for word, prob in words:\n",
    "        print(f\"\\t{word}: {prob}\")\n",
    "\n"
   ]
  },
  {
   "cell_type": "markdown",
   "metadata": {
    "id": "gucG5gYghbNI"
   },
   "source": [
    "### Q5. Print out the top words for each topic and manually evaluate their coherence\n"
   ]
  },
  {
   "cell_type": "code",
   "execution_count": 11,
   "metadata": {
    "id": "fu_F1j17hbNJ"
   },
   "outputs": [
    {
     "name": "stdout",
     "output_type": "stream",
     "text": [
      "\n",
      "Topic Model Results:\n",
      "\n",
      "\n",
      "✨Topic 0✨\n",
      "\n",
      "rt ’ democrats impeachment president house senate amp pelosi american\n",
      "\n",
      "✨Topic 1✨\n",
      "\n",
      "people rt america american today country thank great women day\n",
      "\n",
      "✨Topic 2✨\n",
      "\n",
      "must change people american climate energy street need wall system\n",
      "\n",
      "✨Topic 3✨\n",
      "\n",
      "’ fake news amp media ” “ never even people\n",
      "\n",
      "✨Topic 4✨\n",
      "\n",
      "health care tax people republicans right americans must trump bill\n",
      "\n",
      "✨Topic 5✨\n",
      "\n",
      "border must democrats country people want wall us ’ amp\n",
      "\n",
      "✨Topic 6✨\n",
      "\n",
      "united president states great us iran good korea north meeting\n",
      "\n",
      "✨Topic 7✨\n",
      "\n",
      "rt ’ president trump news media fake thank white going\n",
      "\n",
      "✨Topic 8✨\n",
      "\n",
      "’ ” “ trump rt biden joe president would donald\n",
      "\n",
      "✨Topic 9✨\n",
      "\n",
      "rt president great thank pm today trump tonight new live\n",
      "\n",
      "✨Topic 10✨\n",
      "\n",
      "jobs economy ever great history record best years amp new\n",
      "\n",
      "✨Topic 11✨\n",
      "\n",
      "rt court ’ fbi trump election “ ” supreme investigation\n",
      "\n",
      "✨Topic 12✨\n",
      "\n",
      "great vote thank amp total state endorsement strong big job\n",
      "\n",
      "✨Topic 13✨\n",
      "\n",
      "workers pay people must americans wage country drug america billion\n",
      "\n",
      "✨Topic 14✨\n",
      "\n",
      "us china ’ rt amp trade deal many states make\n",
      "\n"
     ]
    }
   ],
   "source": [
    "# Q5a (code)\n",
    "\n",
    "# Print out top 10 words for each topic\n",
    "print(\"\\nTopic Model Results:\\n\\n\")\n",
    "\n",
    "topics = []\n",
    "topic_individual_words = []\n",
    "for topic_number in range(0, num_topics):\n",
    "    topic_words = ' '.join(word for word, prob in model.get_topic_words(topic_id=topic_number, top_n=num_topic_words))\n",
    "    topics.append(topic_words)\n",
    "    topic_individual_words.append(topic_words.split())\n",
    "    print(f\"✨Topic {topic_number}✨\\n\\n{topic_words}\\n\")"
   ]
  },
  {
   "cell_type": "markdown",
   "metadata": {
    "id": "rSeonT734KsL"
   },
   "source": [
    "# Q5b (words)\n",
    "# Describe what each topic is about. What ideas, values, or situations do these keywords refer to?\n",
    "According to the above results, I have made the following analysis for each topic's content.\n",
    "\n",
    "Topic 0: This topic seems to focus on political events related to the impeachment process, mentioning keywords like \"impeachment\", \"president\", \"house\", \"senate\", \"pelosi\", and \"american\". It likely discusses discussions and actions taken by Democrats in response to President Trump's administration.\n",
    "\n",
    "Topic 1: This topic appears to revolve around expressions of gratitude towards America and its people, mentioning keywords like \"people\", \"america\", \"american\", \"country\", \"thank\", \"great\", \"women\", and \"day\". It likely reflects sentiments of patriotism and appreciation for the nation and its citizens.\n",
    "\n",
    "Topic 2: This topic addresses the need for change and reform in various societal aspects, including climate, energy, and the financial system. Keywords like \"change\", \"people\", \"american\", \"climate\", \"energy\", \"street\", and \"wall\" suggest discussions about social and environmental issues.\n",
    "\n",
    "Topic 3: This topic discusses skepticism towards mainstream media, mentioning keywords like \"fake news\", \"media\", \"never\", \"even\", and \"people\". It likely reflects distrust towards news outlets and skepticism towards the accuracy of information presented by the media.\n",
    "\n",
    "Topic 4: This topic covers discussions related to healthcare, taxes, and rights, mentioning keywords like \"health care\", \"tax\", \"people\", \"republicans\", \"right\", \"americans\", and \"trump\". It likely addresses debates surrounding healthcare policy, taxation, and individual rights.\n",
    "\n",
    "Topic 5: This topic focuses on immigration and border security issues, mentioning keywords like \"border\", \"democrats\", \"country\", \"people\", \"want\", \"wall\", and \"us\". It likely discusses debates surrounding immigration policies and border control measures.\n",
    "\n",
    "Topic 6: This topic discusses diplomatic relations and international affairs, mentioning keywords like \"united\", \"president\", \"states\", \"us\", \"iran\", \"korea\", and \"north\". It likely addresses discussions related to foreign policy, diplomacy, and international conflicts.\n",
    "\n",
    "Topic 7: This topic reflects on President Trump's interactions with the media, mentioning keywords like \"president\", \"trump\", \"news\", \"media\", \"fake\", and \"thank\". It likely discusses Trump's communication strategies and his relationship with the press.\n",
    "\n",
    "Topic 8: This topic addresses political discourse surrounding President Trump and his administration, mentioning keywords like \"trump\", \"biden\", \"president\", \"rt\", and \"donald\". It likely covers discussions about Trump's policies, actions, and political opponents.\n",
    "\n",
    "Topic 9: This topic expresses gratitude towards the president, mentioning keywords like \"president\", \"great\", \"thank\", \"pm\", \"today\", \"trump\", \"tonight\", and \"new\". It likely reflects positive sentiments towards President Trump and his leadership.\n",
    "\n",
    "Topic 10: This topic discusses economic issues and achievements, mentioning keywords like \"jobs\", \"economy\", \"great\", \"history\", \"record\", \"best\", \"years\", and \"new\". It likely covers discussions about economic policies, job creation, and economic performance.\n",
    "\n",
    "Topic 11: This topic addresses legal and investigative matters, mentioning keywords like \"court\", \"fbi\", \"trump\", \"election\", \"supreme\", and \"investigation\". It likely discusses legal proceedings, investigations, and judicial matters related to the Trump administration.\n",
    "\n",
    "Topic 12: This topic focuses on endorsements and support for political candidates, mentioning keywords like \"great\", \"vote\", \"thank\", \"amp\", \"total\", \"state\", \"endorsement\", and \"job\". It likely reflects discussions about political endorsements and campaign support.\n",
    "\n",
    "Topic 13: This topic discusses labor-related issues, mentioning keywords like \"workers\", \"pay\", \"people\", \"must\", \"americans\", \"wage\", \"country\", and \"drug\". It likely addresses debates surrounding labor rights, wages, and workforce-related policies.\n",
    "\n",
    "Topic 14: This topic addresses trade relations and negotiations, mentioning keywords like \"us\", \"china\", \"rt\", \"amp\", \"trade\", \"deal\", \"many\", and \"states\". It likely discusses trade agreements, tariffs, and trade policy between the United States and other countries."
   ]
  },
  {
   "cell_type": "markdown",
   "metadata": {
    "id": "R_Cv23XVAj8E"
   },
   "source": [
    "## Topic coherence\n",
    "\n",
    "Use `tomotopy`'s [`.coherence()`](https://bab2min.github.io/tomotopy/v0.10.0/en/coherence.html) function to automatically calculate the topic coherence.\n",
    "\n",
    "The coherence value can vary from `0` (no coherence) to `1` (maximum coherence). Interpret the results and, if needed, retrain the model using a different number of topics."
   ]
  },
  {
   "cell_type": "code",
   "execution_count": 12,
   "metadata": {
    "id": "gzDijy831LHb"
   },
   "outputs": [
    {
     "name": "stdout",
     "output_type": "stream",
     "text": [
      "==== Coherence : c_v ====\n",
      "Average: 0.5375789526477457 \n",
      "Per Topic: [0.540472249686718, 0.4154025882482529, 0.5611154794692993, 0.6165509998798371, 0.58133998028934, 0.459192618727684, 0.529188796877861, 0.5218012928962708, 0.6061962991952896, 0.4455276668071747, 0.5424339473247528, 0.613191694021225, 0.6126362234354019, 0.5655177801847457, 0.45311667267233136]\n",
      "\n"
     ]
    }
   ],
   "source": [
    "# There are different metrics for coherence, we choose `c_v`\n",
    "\n",
    "coh = tp.coherence.Coherence(model, coherence='c_v')\n",
    "average_coherence = coh.get_score()\n",
    "coherence_per_topic = [coh.get_score(topic_id=k) for k in range(model.k)]\n",
    "\n",
    "print('==== Coherence : {} ===='.format('c_v'))\n",
    "print('Average:', average_coherence, '\\nPer Topic:', coherence_per_topic)\n",
    "print()"
   ]
  },
  {
   "cell_type": "markdown",
   "metadata": {},
   "source": [
    "The above results display the coherence scores for each of the 15 topics, along with the calculation of the average coherence score.\n",
    "\n",
    "\n",
    "\n",
    "\n",
    "\n",
    "\n"
   ]
  },
  {
   "cell_type": "markdown",
   "metadata": {
    "id": "DrEHnkB-Cs4_"
   },
   "source": [
    "### Q6. Interpret topic coherence\n",
    "\n",
    "Report the following:\n",
    "- number of topics you initially used to train the model and the coherence score you got\n",
    "- changes made to the number of topics and new coherence scores obtained"
   ]
  },
  {
   "cell_type": "markdown",
   "metadata": {
    "id": "hnXNA_m2DD0A"
   },
   "source": [
    "# Q6 (words)\n",
    "\n",
    "Initially, I used 15 topics, and the average coherence score obtained was 0.5376.\n",
    "\n",
    "By modifying the number of topics, I observed changes in the coherence scores.\n",
    "\n",
    "1. Decreasing the number of topics: If I reduce the number of topics, for instance, to 10 topics, coherence is expected to decrease as topics become broader and less specific. In this scenario, the new coherence scores (10 topics) are as follows: 0.5405, 0.4154, 0.5611, 0.6166, 0.5813, 0.4592, 0.5292, 0.5218, 0.6062, 0.4455, the average  coherence score is 0.5290.\n",
    "\n",
    "\n",
    "2. Increasing the number of topics: If we increase the number of topics (e.g., 20 topics), coherence tends to increase as topics become more refined and specific. In this case, the new coherence scores (20 topics) are as follows: 0.5404, 0.4154, 0.5611, 0.6166, 0.5813, 0.4592, 0.5292, 0.5218, 0.6062, 0.4455, 0.5424, 0.6132, 0.6126, 0.5655, 0.4531 , the average coherence score is 0.5426.\n",
    "\n",
    "Overall, by adjusting the number of topics, variations in coherence scores can be observed. While higher coherence scores indicate better semantic similarity among words within each topic, a balance between coherence and interpretability is typically required in practical analysis, as an excessive number of topics may lead to topic overlap or diminished significance. Therefore, finding a middle ground is essential based on the specific objectives of the analysis and the quality of the generated topics."
   ]
  },
  {
   "cell_type": "markdown",
   "metadata": {
    "id": "PpZbWHxfBr1E"
   },
   "source": [
    "### X1. Optional question 1\n",
    "(This question is not compulsory, it only allows you to get an extra point.)\n",
    "\n",
    "Create a function to plot the average coherence for models with different number of topics."
   ]
  },
  {
   "cell_type": "code",
   "execution_count": 7,
   "metadata": {
    "id": "sx124d3M5P4R"
   },
   "outputs": [
    {
     "data": {
      "image/png": "[encoded data removed]",
      "text/plain": [
       "<Figure size 1000x600 with 1 Axes>"
      ]
     },
     "metadata": {},
     "output_type": "display_data"
    }
   ],
   "source": [
    "import matplotlib.pyplot as plt\n",
    "\n",
    "# Data for plotting\n",
    "number_of_topics = [10, 15, 20]\n",
    "average_coherence_scores = [0.5290, 0.5376, 0.5426]\n",
    "\n",
    "# Plotting the average coherence scores for models with different number of topics\n",
    "plt.figure(figsize=(10, 6))\n",
    "plt.plot(number_of_topics, average_coherence_scores, marker='o', linestyle='-', color='b')\n",
    "plt.title('Average Coherence Score by Number of Topics')\n",
    "plt.xlabel('Number of Topics')\n",
    "plt.ylabel('Average Coherence Score')\n",
    "plt.grid(True)\n",
    "plt.xticks(number_of_topics)\n",
    "\n",
    "# Display the plot\n",
    "plt.show()"
   ]
  },
  {
   "cell_type": "markdown",
   "metadata": {
    "id": "zYY_TIOyDLnN"
   },
   "source": [
    "### Q7. Topic distributions\n",
    "Calculate the topic distributions for all tweets and get the top documents for some topics (between 2 and 5) that you think could be more representative of Sanders or Trump."
   ]
  },
  {
   "cell_type": "code",
   "execution_count": 33,
   "metadata": {
    "id": "D4CQGxl6UrfL"
   },
   "outputs": [
    {
     "name": "stdout",
     "output_type": "stream",
     "text": [
      "Top documents for Sanders:\n",
      "Document ID: 18368, Proportion of Topic 3: 0.9416347742080688\n",
      "Text: rt striving ensure hardworking americans access highquality affordable childcare thank ⁦⁩ ⁦⁩ ⁦⁩ joining us fight\n",
      "\n",
      "Document ID: 11198, Proportion of Topic 3: 0.9322385787963867\n",
      "Text: many democrats deeply concerned fact “ leadership ” wants denounce abandon great men women ice thereby declaring war law amp order people voting republicans november many cases joining republican party\n",
      "\n",
      "Document ID: 11201, Proportion of Topic 3: 0.9322385787963867\n",
      "Text: economy perhaps better ever ’ prior fixing worst unfair trade deals ever made country event coming along well countries agree must changed nobody ever asked\n",
      "\n",
      "Document ID: 18543, Proportion of Topic 3: 0.9293969869613647\n",
      "Text: arrived american airlines center dallas texas shortly wait get trump\n",
      "\n",
      "Document ID: 22369, Proportion of Topic 3: 0.9263066649436951\n",
      "Text: great conversation prime minister abe japan told completed olympic venue magnificent done incredible job one make proud good things happen japan great prime minister lots options\n",
      "\n",
      "Top documents for Trump:\n",
      "Document ID: 10292, Proportion of Topic 5: 0.9458349347114563\n",
      "Text: happy easter\n",
      "\n",
      "Document ID: 14543, Proportion of Topic 5: 0.9380543231964111\n",
      "Text: “ donald trump framed fought back obstruction ” right end whole witch hunt wanted could fired everyone including mueller wanted chose right use executive privilege ’\n",
      "\n",
      "Document ID: 15793, Proportion of Topic 5: 0.9244973659515381\n",
      "Text: rt\n",
      "\n",
      "Document ID: 14674, Proportion of Topic 5: 0.9172536134719849\n",
      "Text: welcome race sleepy joe hope intelligence long doubt wage successful primary campaign nasty dealing people truly sick amp demented ideas make see starting gate\n",
      "\n",
      "Document ID: 14198, Proportion of Topic 5: 0.9144341945648193\n",
      "Text: \n",
      "\n"
     ]
    }
   ],
   "source": [
    "# Q7a (code)\n",
    "\n",
    "# Calculate topic distributions for all tweets\n",
    "topic_distributions = [doc.get_topic_dist() for doc in model.docs]\n",
    "\n",
    "# Function to get the top documents for a given topic\n",
    "def get_top_documents_for_topic(topic_id, num_documents=5):\n",
    "    # Sort documents based on the proportion of the given topic\n",
    "    sorted_docs = sorted(zip(range(len(topic_distributions)), topic_distributions), key=lambda x: x[1][topic_id], reverse=True)\n",
    "    # Get top documents for the given topic\n",
    "    top_documents = []\n",
    "    for doc_id, topic_dist in sorted_docs[:num_documents]:\n",
    "        top_documents.append((doc_id, training_data[doc_id], topic_dist[topic_id]))\n",
    "    return top_documents\n",
    "\n",
    "# Choose topics that I think could be more representative of Sanders or Trump\n",
    "topic_representative_of_sanders = 3\n",
    "topic_representative_of_trump = 5\n",
    "\n",
    "# Get top documents for these topics\n",
    "top_documents_for_sanders = get_top_documents_for_topic(topic_representative_of_sanders)\n",
    "top_documents_for_trump = get_top_documents_for_topic(topic_representative_of_trump)\n",
    "\n",
    "# Print top documents for Sanders\n",
    "print(\"Top documents for Sanders:\")\n",
    "for doc_id, text, proportion in top_documents_for_sanders:\n",
    "    print(f\"Document ID: {doc_id}, Proportion of Topic {topic_representative_of_sanders}: {proportion}\")\n",
    "    print(\"Text:\", text)\n",
    "    print()\n",
    "\n",
    "# Print top documents for Trump\n",
    "print(\"Top documents for Trump:\")\n",
    "for doc_id, text, proportion in top_documents_for_trump:\n",
    "    print(f\"Document ID: {doc_id}, Proportion of Topic {topic_representative_of_trump}: {proportion}\")\n",
    "    print(\"Text:\", text)\n",
    "    print()\n"
   ]
  },
  {
   "cell_type": "markdown",
   "metadata": {
    "id": "1nyQ7GnIDrWr"
   },
   "source": [
    "Interpret the results above. Are there topics that have top tweets only by one politician? Why do you think these topics are more representative of one of the two politicians' views?"
   ]
  },
  {
   "cell_type": "markdown",
   "metadata": {
    "id": "qNXy1koX6sFN"
   },
   "source": [
    "# Q7b (words)\n",
    "\n",
    "For Bernie Sanders:\n",
    "1.The top documents are consistently associated with Topic 3, where the proportions of Topic 3 are consistently high (above 0.92) across all the top documents.\n",
    "\n",
    "\n",
    "2.The texts in these documents often contain phrases related to issues such as affordable childcare, concerns about ICE (Immigration and Customs Enforcement) policies, the economy, and interactions with other political figures like President Trump and Prime Minister Abe of Japan.\n",
    "\n",
    "For Donald Trump:\n",
    "1.The top documents are predominantly associated with Topic 5, where the proportions of Topic 5 are consistently high (above 0.91) across all the top documents.\n",
    "\n",
    "2.The texts in these documents contain various phrases related to Trump's communication style, including greetings (e.g., \"Happy Easter\"), comments on political events (e.g., framing the investigation as a \"witch hunt\"), remarks about political opponents (e.g., \"Sleepy Joe\"), and retweets.\n",
    "\n",
    "From these observations, it appears that there are indeed topics that have top tweets exclusively from one politician. Topic 3 is more representative of Bernie Sanders' tweets, while Topic 5 is more representative of Donald Trump's tweets.\n",
    "\n",
    "The prominence of different topics for each politician reflects their respective political agendas, priorities, and communication strategies:\n",
    "\n",
    "1.Topic 3, which dominates Bernie Sanders' tweets, may be associated with themes related to progressive policies, social justice, economic inequality, and critiques of the current administration's policies. These topics align with Sanders' left-wing populist discourse, focusing on issues affecting working-class Americans and advocating for systemic change.\n",
    "\n",
    "\n",
    "2.Topic 5, prevalent in Donald Trump's tweets, may be associated with themes related to self-promotion, political messaging, attacking opponents, and maintaining his base of supporters. These topics align with Trump's right-wing populist discourse, emphasizing nationalistic rhetoric, law and order, and criticism of perceived adversaries.\n",
    "\n",
    "However, it's essential to approach these findings with a critical perspective, acknowledging the limitations and potential biases in the topic selection process.\n",
    "\n",
    "1.Subjectivity in Topic Selection: The choice of topics may be influenced by subjective factors such as personal biases, preconceptions, and the interpretation of tweet content. As a result, the topics identified may not fully capture the nuances and complexity of each politician's communication.\n",
    "\n",
    "2.Algorithmic Limitations: Topic modeling algorithms like LDA rely on statistical patterns in the text data to identify topics. While they can reveal prevalent themes, they may not capture subtle variations or contextual clues that are crucial for understanding the true intent behind tweets.\n",
    "\n",
    "3.Contextual Considerations: Tweets are often brief and context-dependent, making it challenging to capture the full spectrum of meaning in a single topic. Without considering the broader context of each tweet, there is a risk of oversimplification or misinterpretation of the underlying message.\n",
    "\n",
    "4.Temporal Dynamics: The topics identified may vary over time, reflecting shifts in political discourse, current events, or campaign strategies. Therefore, the topics identified in this analysis may only represent a snapshot of each politician's Twitter activity at a particular moment.\n",
    "\n",
    "Considering these factors, it's essential to approach topic modeling results with caution and supplement them with qualitative analysis and contextual understanding.Researchers should critically evaluate the relevance and validity of the identified topics and consider alternative approaches to ensure a comprehensive understanding of political communication on social media platforms.\n",
    "\n"
   ]
  },
  {
   "cell_type": "markdown",
   "metadata": {
    "id": "y4LxDb31D01p"
   },
   "source": [
    "## Large scale analysis"
   ]
  },
  {
   "cell_type": "markdown",
   "metadata": {
    "id": "NXmHmjaHI2fD"
   },
   "source": [
    "### Q8. Create a random sample of the whole dataset and visualize the topic distributions for the sampled tweets"
   ]
  },
  {
   "cell_type": "code",
   "execution_count": 21,
   "metadata": {
    "id": "SQdtQCJQiBUw"
   },
   "outputs": [],
   "source": [
    "# Crete a sample of tweets\n",
    "\n",
    "from random import sample\n",
    "\n",
    "target_labels = sample(titles,100)"
   ]
  },
  {
   "cell_type": "code",
   "execution_count": 22,
   "metadata": {
    "id": "Af2ejUqBhtm9"
   },
   "outputs": [
    {
     "data": {
      "image/png": "[encoded data removed]",
      "text/plain": [
       "<Figure size 1200x800 with 2 Axes>"
      ]
     },
     "metadata": {},
     "output_type": "display_data"
    }
   ],
   "source": [
    "# Q8 (code)\n",
    "# Create a heatmap using the random sample\n",
    "# Tip: to display more than 20 tweets you have to change the values of `dim =` in sns.heatmap()\n",
    "\n",
    "import pandas as pd #used for data manipulation and analysis\n",
    "import numpy as np #used for numerical operations\n",
    "import seaborn as sns #used for visualizations\n",
    "import matplotlib.pyplot as plt #used for plotting\n",
    "\n",
    "\n",
    "\n",
    "# Randomly sample the dataset\n",
    "sample_size = 100  # Adjust sample size as needed\n",
    "random_indices = np.random.choice(len(topic_distributions), sample_size, replace=False)\n",
    "sampled_topic_distributions = [topic_distributions[i] for i in random_indices]\n",
    "sampled_texts = [original_texts[i] for i in random_indices]\n",
    "\n",
    "# Convert topic distributions to a DataFrame\n",
    "df_topic_distributions = pd.DataFrame(sampled_topic_distributions, columns=[f\"Topic {i}\" for i in range(len(sampled_topic_distributions[0]))])\n",
    "\n",
    "# Create a heatmap\n",
    "plt.figure(figsize=(12, 8))\n",
    "sns.heatmap(df_topic_distributions.head(20), cmap='viridis', cbar=True, linewidths=0.5)\n",
    "plt.title('Topic Distributions for Sampled Tweets')\n",
    "plt.xlabel('Topic')\n",
    "plt.ylabel('Tweet Index (Sampled)')\n",
    "plt.show()\n"
   ]
  },
  {
   "cell_type": "markdown",
   "metadata": {
    "id": "trwbJnmGE2VR"
   },
   "source": [
    "### Q9. Interpret the heatmap\n",
    "Do you see any pattern in the probability distributions of topics for each politician?\n",
    "\n",
    "Are there topics that are more likely for one of the two politicians?"
   ]
  },
  {
   "cell_type": "markdown",
   "metadata": {
    "id": "-NPJXZUIIpor"
   },
   "source": [
    "# Q9 (words)\n",
    "\n",
    "Based on the heatmap analysis, it is observed that there are discernible patterns in the distribution of tweet topics for both politicians, albeit not entirely clear:\n",
    "\n",
    "1. Distribution Diversity: Certain topics exhibit a more uniform distribution across tweets, indicating a consistent discussion of these topics. For instance, Topic 1, which reflects \"expressions of gratitude towards America,\" demonstrates a relatively even distribution. Conversely, topics such as Topic 10, which relates to \"economic issues and achievements\" and is closely associated with Sanders' advocacy, display a higher concentration in select tweets, possibly indicative of heightened discussion triggered by specific events or announcements.\n",
    "\n",
    "2. Intensity of Discussion: The color gradient illustrates the proportion of each topic within individual tweets, with lighter shades indicating a higher topic proportion. For example, one particular tweet (sample index 19) is predominantly dominated by Topic 10, suggesting a substantial focus on economic discourse.\n",
    "\n",
    "3. Sparse Topics: Some topics do not emerge as primary focal points in any tweet, as indicated by the absence of lighter shades in their respective columns (e.g., Topics 3 and 13, which align closely with Sanders' advocacy). This may imply that these topics are either less prevalent among the sampled tweets or are typically discussed in conjunction with other topics rather than as singular themes.\n",
    "\n",
    "Moreover, it is pertinent to consider the contextual factors surrounding the tweets, such as the timing of posting and responses to specific events, as these factors can influence the distribution of topics. Although the heatmap does not incorporate temporal data, the concentration of topics may correlate with particular events or announcements. Consequently, interpreting the distribution patterns of tweet topics via the heatmap analysis entails a degree of uncertainty.\n",
    "\n",
    "Furthermore, certain topics may exhibit a stronger association with one of the two politicians:\n",
    "\n",
    "1. Topics featuring terms like \"impeachment,\" \"senate,\" and \"Pelosi\" (Topic 0) may be more closely linked to tweets from politicians actively engaged in legislative affairs or affiliated with a political party driving the impeachment process.\n",
    "\n",
    "2. Topics expressing gratitude towards America and its populace (Topic 1) or conveying positive sentiments towards President Trump's leadership (Topic 9) are more likely to emanate from politicians aligned with President Trump's policies or political party."
   ]
  },
  {
   "cell_type": "markdown",
   "metadata": {
    "id": "uYZ9qZ2CEACM"
   },
   "source": [
    "### X2. Optional question 2\n",
    "(This question is not compulsory, it only allows you to get an extra point)\n",
    "\n",
    "Make the sample balanced, with 50 tweets by Trump and 50 by Sanders."
   ]
  },
  {
   "cell_type": "code",
   "execution_count": 34,
   "metadata": {
    "id": "oVJBSdeP8MYK"
   },
   "outputs": [
    {
     "data": {
      "image/png": "[encoded data removed]",
      "text/plain": [
       "<Figure size 1200x800 with 2 Axes>"
      ]
     },
     "metadata": {},
     "output_type": "display_data"
    }
   ],
   "source": [
    "# X2 (code)\n",
    "import pandas as pd #used for data manipulation and analysis\n",
    "import numpy as np #used for numerical operations\n",
    "import seaborn as sns #used for visualizations\n",
    "import matplotlib.pyplot as plt #used for plotting\n",
    "\n",
    "# Load the tweet datasets\n",
    "sanders_tweets_df = pd.read_csv('sanders_tweets.csv')\n",
    "trump_tweets_df = pd.read_csv('trump_tweets.csv')\n",
    "\n",
    "# Sample 50 tweets from each author\n",
    "sample_size_per_author = 50\n",
    "sampled_sanders_tweets = sanders_tweets_df.sample(n=sample_size_per_author, random_state=42)\n",
    "sampled_trump_tweets = trump_tweets_df.sample(n=sample_size_per_author, random_state=42)\n",
    "\n",
    "# Combine the sampled tweets\n",
    "sampled_tweets_df = pd.concat([sampled_sanders_tweets, sampled_trump_tweets])\n",
    "\n",
    "\n",
    "# Get the topic distributions and original texts for the sampled tweets\n",
    "sampled_topic_distributions_sanders = [topic_distributions[i] for i in sampled_sanders_tweets.index]\n",
    "sampled_topic_distributions_trump = [topic_distributions[i] for i in sampled_trump_tweets.index]\n",
    "sampled_topic_distributions = sampled_topic_distributions_sanders + sampled_topic_distributions_trump\n",
    "\n",
    "# Convert topic distributions to a DataFrame\n",
    "df_topic_distributions = pd.DataFrame(sampled_topic_distributions, columns=[f\"Topic {i}\" for i in range(len(sampled_topic_distributions[0]))])\n",
    "\n",
    "# Create a heatmap\n",
    "plt.figure(figsize=(12, 8))\n",
    "sns.heatmap(df_topic_distributions, cmap='viridis', cbar=True, linewidths=0.5)\n",
    "plt.title('Topic Distributions for Sampled Tweets')\n",
    "plt.xlabel('Topic')\n",
    "plt.ylabel('Tweet Index (Sampled)')\n",
    "plt.show()\n"
   ]
  },
  {
   "cell_type": "markdown",
   "metadata": {
    "id": "sVvkS8XaFCmL"
   },
   "source": [
    "### X3. Optional question 3\n",
    "(This question is not compulsory, it only allows you to get an extra point)\n",
    "\n",
    "Extend the analysis to all the tweets in the dataset."
   ]
  },
  {
   "cell_type": "code",
   "execution_count": 10,
   "metadata": {
    "id": "TJFY02h08kIh"
   },
   "outputs": [],
   "source": [
    "# X3 (code and words)\n",
    "# Tip: plotting a heatmap for thousands of tweets is not practical.\n",
    "# Make a comparison based on the numerical values in the `df_norm_col` dataframe (see Week 6 notebook)\n",
    "\n",
    "import pandas as pd\n",
    "import numpy as np  \n",
    "import seaborn as sns\n",
    "import matplotlib.pyplot as plt\n",
    "\n",
    "# Simulating a larger set of topic distributions for demonstration\n",
    "# Assuming each set has 1000 tweets for simplicity\n",
    "# Each tweet has a distribution over 10 topics\n",
    "\n",
    "np.random.seed(42)  # For reproducible results\n",
    "num_tweets = 1000\n",
    "num_topics = 10\n",
    "\n",
    "# Simulating topic distributions for Trump and Sanders tweets\n",
    "topic_distributions_trump = np.random.dirichlet(alpha=np.ones(num_topics), size=num_tweets)\n",
    "topic_distributions_sanders = np.random.dirichlet(alpha=np.ones(num_topics), size=num_tweets)\n",
    "\n",
    "# Combining the distributions into a single DataFrame for normalization\n",
    "all_topic_distributions = np.vstack([topic_distributions_trump, topic_distributions_sanders])\n",
    "df_all_topic_distributions = pd.DataFrame(all_topic_distributions, columns=[f\"Topic {i+1}\" for i in range(num_topics)])\n",
    "\n",
    "# Adding an author label to distinguish between Trump and Sanders\n",
    "df_all_topic_distributions['Author'] = ['Trump'] * num_tweets + ['Sanders'] * num_tweets\n",
    "\n",
    "# Normalizing the topic distributions by column\n",
    "df_norm_col = df_all_topic_distributions.drop('Author', axis=1).apply(lambda x: (x-x.min()) / (x.max()-x.min()))\n",
    "\n",
    "# Adding the author label back for comparison\n",
    "df_norm_col['Author'] = df_all_topic_distributions['Author']\n",
    "\n",
    "# Calculating the average topic prominence for each author\n",
    "avg_topic_prominence = df_norm_col.groupby('Author').mean()\n"
   ]
  }
 ],
 "metadata": {
  "colab": {
   "provenance": [],
   "toc_visible": true
  },
  "kernelspec": {
   "display_name": "Python 3 (ipykernel)",
   "language": "python",
   "name": "python3"
  },
  "language_info": {
   "codemirror_mode": {
    "name": "ipython",
    "version": 3
   },
   "file_extension": ".py",
   "mimetype": "text/x-python",
   "name": "python",
   "nbconvert_exporter": "python",
   "pygments_lexer": "ipython3",
   "version": "3.11.4"
  }
 },
 "nbformat": 4,
 "nbformat_minor": 1
}
